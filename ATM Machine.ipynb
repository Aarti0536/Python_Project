{
 "cells": [
  {
   "cell_type": "markdown",
   "id": "ee4c5440",
   "metadata": {},
   "source": [
    "# WAP for ATM machine"
   ]
  },
  {
   "cell_type": "code",
   "execution_count": null,
   "id": "5061c7ab-aaad-4dda-a3c4-5db4a3e10558",
   "metadata": {},
   "outputs": [
    {
     "name": "stdout",
     "output_type": "stream",
     "text": [
      "Welcome to ATM machine\n"
     ]
    },
    {
     "name": "stdin",
     "output_type": "stream",
     "text": [
      "Enter Account number =  23453\n",
      "Enter Your Pin =  123\n"
     ]
    },
    {
     "name": "stdout",
     "output_type": "stream",
     "text": [
      "select any opeartion\n",
      "1. Deposit\n",
      "2. Withdraw\n",
      "3. check Balance\n",
      "4. Transer Money\n"
     ]
    },
    {
     "name": "stdin",
     "output_type": "stream",
     "text": [
      "Enter your choice =  1\n",
      "Enter amount to deposit =  200\n"
     ]
    },
    {
     "name": "stdout",
     "output_type": "stream",
     "text": [
      "Amount deposit Successfull =  10200\n"
     ]
    }
   ],
   "source": [
    "acc_num = [23453,34543,97866,57745]\n",
    "acc_bal = [10000,8000,9000,5500]\n",
    "\n",
    "acc_num_send= [76567,34536,75895,35756]\n",
    "acc_bal_send = [5000,3000,12000,4000]\n",
    "\n",
    "acc_pin = [123,543,878,956]\n",
    "\n",
    "while True:\n",
    "    print(\"Welcome to ATM machine\")\n",
    "    enter_acc_num = int(input(\"Enter Account number = \"))\n",
    "    enter_pin = int(input(\"Enter Your Pin = \"))\n",
    "    \n",
    "    if(enter_acc_num in acc_num and enter_pin in acc_pin):\n",
    "        acc_index = acc_num.index(enter_acc_num)\n",
    "        \n",
    "        if (enter_pin == acc_pin[acc_index]):\n",
    "            print(\"select any opeartion\")\n",
    "            print(\"1. Deposit\")\n",
    "            print(\"2. Withdraw\")\n",
    "            print(\"3. check Balance\")\n",
    "            print(\"4. Transer Money\")\n",
    "            \n",
    "            choice = int(input(\"Enter your choice = \"))\n",
    "            \n",
    "            if choice == 1:\n",
    "                deposit = int(input(\"Enter amount to deposit = \"))\n",
    "                if(deposit >0):\n",
    "                    acc_bal[acc_index] += deposit\n",
    "                    #deposit = acc_bal[acc_index] + deposit\n",
    "                    print(\"Amount deposit Successfull = \",acc_bal[acc_index])\n",
    "                else: print(\"Failed\")\n",
    "                    \n",
    "            elif (choice == 2):\n",
    "                withdraw_amount = int(input(\"Enter amount you want to withdraw = \"))\n",
    "                if(withdraw_amount <= acc_bal[acc_index]):\n",
    "                                      acc_bal[acc_index] -= withdraw_amount\n",
    "                                      #withdraw_amount = acc_bal[acc_index] - withdraw_amount\n",
    "                        \n",
    "                                      print(\"Amount Withdraw successfull = \",acc_bal[acc_index])\n",
    "                else:\n",
    "                    print(\"Sorry ! you cann't withdraw because Entered amount is greater than account balance\")\n",
    "                    \n",
    "            elif(choice == 3):\n",
    "                print(\"Account Number is = \",acc_num[acc_index])\n",
    "                print(\"Account balance is = \", acc_bal[acc_index])\n",
    "                \n",
    "            elif(choice == 4):\n",
    "                enter_acc_num_send= int(input(\"Enter Account number in which you want to transfer money = \"))\n",
    "                send_amount = int(input(\"How much amount you want to send = \"))\n",
    "                transer_index = acc_num_send.index(enter_acc_num_send)\n",
    "                receiver_bal = acc_bal_send[transer_index] + send_amount\n",
    "                sender_bal = acc_bal[acc_index] - send_amount\n",
    "                print(\"The total amount in sender's account is = \",sender_bal)\n",
    "                print(\"The total amount in reciver's account is = \",receiver_bal)\n",
    "            else:\n",
    "                print(\"Invalid Choice\")\n",
    "    else:\n",
    "        print(\"Invalid ATM pin\")\n",
    "    repeat = input(\"Do you want to repeat yes or no = \")\n",
    "    if(repeat == \"yes\"):\n",
    "        continue\n",
    "    else:\n",
    "        print(\"Thank you for visiting ATM machine\")\n",
    "        break\n",
    "\n",
    "\n",
    "    \n",
    "                     \n",
    "                \n",
    "                \n",
    "                    \n",
    "    "
   ]
  },
  {
   "cell_type": "code",
   "execution_count": null,
   "id": "625944f0-7979-4d23-828d-5ae7f470a46d",
   "metadata": {},
   "outputs": [],
   "source": [
    "\n",
    "\n"
   ]
  },
  {
   "cell_type": "code",
   "execution_count": null,
   "id": "c3c30191-ae91-4444-96e7-e1f7f7d86d51",
   "metadata": {},
   "outputs": [],
   "source": []
  },
  {
   "cell_type": "code",
   "execution_count": null,
   "id": "f45b6cdd-8e20-46cf-b73b-c06662e5b926",
   "metadata": {},
   "outputs": [],
   "source": []
  },
  {
   "cell_type": "code",
   "execution_count": null,
   "id": "8fd2d2c8-d361-4b5d-85b7-49c846730907",
   "metadata": {},
   "outputs": [],
   "source": []
  },
  {
   "cell_type": "code",
   "execution_count": null,
   "id": "0ee9d5f2-a8b0-4ed5-82ea-d6f21ccb554a",
   "metadata": {},
   "outputs": [],
   "source": []
  }
 ],
 "metadata": {
  "kernelspec": {
   "display_name": "Python 3 (ipykernel)",
   "language": "python",
   "name": "python3"
  },
  "language_info": {
   "codemirror_mode": {
    "name": "ipython",
    "version": 3
   },
   "file_extension": ".py",
   "mimetype": "text/x-python",
   "name": "python",
   "nbconvert_exporter": "python",
   "pygments_lexer": "ipython3",
   "version": "3.11.7"
  }
 },
 "nbformat": 4,
 "nbformat_minor": 5
}
